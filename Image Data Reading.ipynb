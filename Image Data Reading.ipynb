{
 "cells": [
  {
   "cell_type": "code",
   "execution_count": 1,
   "metadata": {},
   "outputs": [],
   "source": [
    "import tarfile\n",
    "import os\n",
    "import SimpleITK as sitk\n",
    "import numpy as np\n",
    "import matplotlib.pyplot as plt\n",
    "import torch"
   ]
  },
  {
   "cell_type": "code",
   "execution_count": 2,
   "metadata": {},
   "outputs": [],
   "source": [
    "path_lungraw = 'D:/DATA/VESSEL_DATA/temp/LungCT'\n",
    "path_maskraw = 'D:/DATA/VESSEL_DATA/temp/LungMasks'"
   ]
  },
  {
   "cell_type": "code",
   "execution_count": 3,
   "metadata": {},
   "outputs": [],
   "source": [
    "def load_tarfile(data_path):\n",
    "    for file in os.listdir(data_path):\n",
    "        tar = tarfile.open(os.path.join(data_path, file), \"r:bz2\")\n",
    "        tar.extractall()\n",
    "        tar.close()"
   ]
  },
  {
   "cell_type": "code",
   "execution_count": 4,
   "metadata": {},
   "outputs": [],
   "source": [
    "def load_img_npy(data_path):\n",
    "    for file in os.listdir(data_path):\n",
    "        if file.endswith(\".mhd\"):\n",
    "            itk_image = sitk.ReadImage(os.path.join(data_path, file))\n",
    "            img_array = sitk.GetArrayFromImage(itk_image)\n",
    "            np.save(file[:-4] + \".npy\", img_array)"
   ]
  },
  {
   "cell_type": "code",
   "execution_count": 5,
   "metadata": {},
   "outputs": [],
   "source": [
    "def load_mask_npy(data_path):\n",
    "    for file in os.listdir(data_path):\n",
    "        if file.endswith(\".mhd\"):\n",
    "            itk_image = sitk.ReadImage(os.path.join(data_path, file))\n",
    "            img_array = sitk.GetArrayFromImage(itk_image)\n",
    "            np.save(file[:-4] + \"_MASK.npy\", img_array)"
   ]
  },
  {
   "cell_type": "code",
   "execution_count": 6,
   "metadata": {},
   "outputs": [],
   "source": [
    "def view_img_masks(scan_num, dir_num, path_lung, path_masks):\n",
    "    dir_lung = os.listdir(path_lung)\n",
    "    dir_mask = os.listdir(path_masks)\n",
    "    image_arr = np.load(os.path.join(path_lung, dir_lung[dir_num]))\n",
    "    mask_arr = np.load(os.path.join(path_masks, dir_mask[dir_num]))\n",
    "    fig, ax = plt.subplots(1, 2)\n",
    "    ax[0].imshow(image_arr[scan_num, :, :], cmap = 'gray')\n",
    "    ax[1].imshow(mask_arr[scan_num, :, :], cmap = 'gray')"
   ]
  },
  {
   "cell_type": "code",
   "execution_count": 7,
   "metadata": {},
   "outputs": [],
   "source": [
    "def create_numpy(path_lung, path_masks, saved = True):\n",
    "    path_list = []\n",
    "    for i in range(0, len(os.listdir(path_lung))):\n",
    "        path_list.append([os.path.join(path_lung, os.listdir(path_lung)[i]), os.path.join(path_masks, os.listdir(path_masks)[i])])\n",
    "    \n",
    "    volume_list = [[np.load(i[0]), np.load(i[1])] for i in path_list]\n",
    "    paired_images = []\n",
    "    \n",
    "    for volumes in volume_list:\n",
    "        scan_num = volumes[0].shape[0]\n",
    "        for i in range(scan_num):\n",
    "            paired_images.append([volumes[0][i, :, :], volumes[1][i, :, :]])\n",
    "    \n",
    "    lung_CT = np.array([i[0] for i in paired_images])\n",
    "    lung_masks = np.array([i[1] for i in paired_images])\n",
    "    \n",
    "    return lung_CT, lung_masks\n",
    "    \n",
    "    if not saved:\n",
    "        np.save('D:\\DATA\\VESSEL_DATA\\lung_CT.npy', lung_CT)\n",
    "        np.save('D:\\DATA\\VESSEL_DATA\\lung_masks.npy', lung_masks)"
   ]
  },
  {
   "cell_type": "code",
   "execution_count": null,
   "metadata": {},
   "outputs": [],
   "source": [
    "# cloud\n",
    "def create_numpy(path_lung, path_masks, saved = False):\n",
    "    path_list = []\n",
    "    for i in range(0, len(os.listdir(path_lung))):\n",
    "        path_list.append([os.path.join(path_lung, os.listdir(path_lung)[i]), os.path.join(path_masks, os.listdir(path_masks)[i])])\n",
    "    \n",
    "    volume_list = [[np.load(i[0]), np.load(i[1])] for i in path_list]\n",
    "    paired_images = []\n",
    "    \n",
    "    for volumes in volume_list:\n",
    "        scan_num = volumes[0].shape[0]\n",
    "        for i in range(scan_num):\n",
    "            paired_images.append([volumes[0][i, :, :], volumes[1][i, :, :]])\n",
    "    \n",
    "    lung_CT = np.array([i[0] for i in paired_images])\n",
    "    lung_masks = np.array([i[1] for i in paired_images])\n",
    "    \n",
    "    return lung_CT, lung_masks\n",
    "    \n",
    "    if not saved:\n",
    "        np.save('/home/rrsood003/DATA/lung_CT.npy', lung_CT)\n",
    "        np.save('/home/rrsood003/DATA/lung_masks.npy', lung_masks)"
   ]
  },
  {
   "cell_type": "code",
   "execution_count": null,
   "metadata": {},
   "outputs": [],
   "source": []
  }
 ],
 "metadata": {
  "kernelspec": {
   "display_name": "Python 3",
   "language": "python",
   "name": "python3"
  },
  "language_info": {
   "codemirror_mode": {
    "name": "ipython",
    "version": 3
   },
   "file_extension": ".py",
   "mimetype": "text/x-python",
   "name": "python",
   "nbconvert_exporter": "python",
   "pygments_lexer": "ipython3",
   "version": "3.7.6"
  }
 },
 "nbformat": 4,
 "nbformat_minor": 4
}
