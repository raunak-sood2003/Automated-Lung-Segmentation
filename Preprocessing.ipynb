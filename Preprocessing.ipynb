{
 "cells": [
  {
   "cell_type": "code",
   "execution_count": 1,
   "metadata": {},
   "outputs": [],
   "source": [
    "import numpy as np\n",
    "import matplotlib.pyplot as plt\n",
    "import torch\n",
    "import torchvision\n",
    "from torchvision import transforms\n",
    "import torch.nn as nn\n",
    "import torch.nn.functional as F\n",
    "from torch.utils.data import Dataset, DataLoader\n",
    "from Deeper_CDCGAN import Generator, Discriminator\n",
    "from tqdm import tqdm"
   ]
  },
  {
   "cell_type": "code",
   "execution_count": 2,
   "metadata": {},
   "outputs": [],
   "source": [
    "lung_CT = np.load('D:\\DATA\\VESSEL_DATA\\lung_CT.npy')\n",
    "lung_masks = np.load('D:\\DATA\\VESSEL_DATA\\lung_masks.npy')"
   ]
  },
  {
   "cell_type": "code",
   "execution_count": 3,
   "metadata": {},
   "outputs": [],
   "source": [
    "class Lung_CT_DATA(Dataset):\n",
    "    def __init__(self, lungs_np, masks_np, split_type, transforms = None):\n",
    "        self.lungs_np = lungs_np\n",
    "        self.masks_np = masks_np\n",
    "        self.MAX_VAL = 2**15-1\n",
    "        self.MIN_VAL = -4579\n",
    "        self.val_split = 0.1\n",
    "        self.val_num = int(self.val_split*self.lungs_np.shape[0])\n",
    "        self.split_type = split_type\n",
    "        self.transforms = transforms\n",
    "        \n",
    "        if self.split_type == 'val': \n",
    "            self.val_lungs = torch.Tensor([i for i in tqdm(self.lungs_np[:self.val_num])]).view(-1, 1, 512, 512)\n",
    "            self.val_lungs -= self.MIN_VAL\n",
    "            self.val_lungs /= (self.MAX_VAL-self.MIN_VAL)\n",
    "            self.val_masks = torch.Tensor([i for i in tqdm(self.masks_np[:self.val_num])]).view(-1, 1, 512, 512)\n",
    "        elif self.split_type == 'test':\n",
    "            self.test_lungs = torch.Tensor([i for i in tqdm(self.lungs_np[self.val_num:self.val_num*2])]).view(-1, 1, 512, 512)\n",
    "            self.test_lungs -= self.MIN_VAL\n",
    "            self.test_lungs /= (self.MAX_VAL-self.MIN_VAL)\n",
    "            self.test_masks = torch.Tensor([i for i in tqdm(self.masks_np[self.val_num:self.val_num*2])]).view(-1, 1, 512, 512)\n",
    "        elif self.split_type == 'train':\n",
    "            self.train_lungs = torch.Tensor([i for i in tqdm(self.lungs_np[self.val_num*2:])]).view(-1, 1, 512, 512)\n",
    "            self.train_lungs -= self.MIN_VAL\n",
    "            self.train_lungs /= (self.MAX_VAL-self.MIN_VAL)\n",
    "            self.train_masks = torch.Tensor([i for i in tqdm(self.masks_np[self.val_num*2:])]).view(-1, 1, 512, 512)\n",
    "            \n",
    "    def __len__(self):\n",
    "        if self.split_type == 'train':\n",
    "            return self.train_lungs.shape[0]\n",
    "        elif self.split_type == 'val':\n",
    "            return self.val_lungs.shape[0]\n",
    "        elif self.split_type == 'test':\n",
    "            return self.test_lungs.shape[0]\n",
    "        \n",
    "    def __getitem__(self, idx):\n",
    "        if self.split_type == 'train':\n",
    "            return self.train_lungs[idx], self.train_masks[idx]\n",
    "        elif self.split_type == 'val':\n",
    "            return self.val_lungs[idx], self.val_masks[idx]\n",
    "        elif self.split_type == 'test':\n",
    "            return self.test_lungs[idx], self.test_masks[idx]"
   ]
  },
  {
   "cell_type": "code",
   "execution_count": 4,
   "metadata": {},
   "outputs": [
    {
     "name": "stderr",
     "output_type": "stream",
     "text": [
      "100%|██████████| 6875/6875 [00:00<00:00, 2296761.45it/s]\n",
      "100%|██████████| 6875/6875 [00:00<00:00, 1723600.72it/s]\n",
      "100%|██████████| 859/859 [00:00<?, ?it/s]\n",
      "100%|██████████| 859/859 [00:00<00:00, 861321.33it/s]\n",
      "100%|██████████| 859/859 [00:00<00:00, 862352.11it/s]\n",
      "100%|██████████| 859/859 [00:00<00:00, 884366.01it/s]\n"
     ]
    }
   ],
   "source": [
    "train = Lung_CT_DATA(lung_CT, lung_masks, split_type = 'train', transforms = None)\n",
    "val = Lung_CT_DATA(lung_CT, lung_masks, split_type = 'val', transforms = None)\n",
    "test = Lung_CT_DATA(lung_CT, lung_masks, split_type = 'test', transforms = None)"
   ]
  },
  {
   "cell_type": "code",
   "execution_count": 5,
   "metadata": {},
   "outputs": [],
   "source": [
    "BATCH_SIZE = 1\n",
    "train_loader = DataLoader(train, batch_size = BATCH_SIZE, shuffle = True)\n",
    "val_loader = DataLoader(val, batch_size = BATCH_SIZE, shuffle = True)\n",
    "test_loader = DataLoader(test, batch_size = BATCH_SIZE, shuffle = True)"
   ]
  },
  {
   "cell_type": "code",
   "execution_count": 6,
   "metadata": {},
   "outputs": [],
   "source": [
    "device = torch.device('cpu')"
   ]
  },
  {
   "cell_type": "code",
   "execution_count": 7,
   "metadata": {},
   "outputs": [
    {
     "name": "stdout",
     "output_type": "stream",
     "text": [
      "Starting Training...\n"
     ]
    },
    {
     "ename": "KeyboardInterrupt",
     "evalue": "",
     "output_type": "error",
     "traceback": [
      "\u001b[1;31m---------------------------------------------------------------------------\u001b[0m",
      "\u001b[1;31mKeyboardInterrupt\u001b[0m                         Traceback (most recent call last)",
      "\u001b[1;32m<ipython-input-7-19b1347c01d3>\u001b[0m in \u001b[0;36m<module>\u001b[1;34m\u001b[0m\n\u001b[0;32m     38\u001b[0m         \u001b[0mlabels\u001b[0m \u001b[1;33m=\u001b[0m \u001b[0mtorch\u001b[0m\u001b[1;33m.\u001b[0m\u001b[0mones\u001b[0m\u001b[1;33m(\u001b[0m\u001b[0moutput\u001b[0m\u001b[1;33m.\u001b[0m\u001b[0mshape\u001b[0m\u001b[1;33m[\u001b[0m\u001b[1;36m0\u001b[0m\u001b[1;33m]\u001b[0m\u001b[1;33m)\u001b[0m\u001b[1;33m.\u001b[0m\u001b[0mreshape\u001b[0m\u001b[1;33m(\u001b[0m\u001b[0moutput\u001b[0m\u001b[1;33m.\u001b[0m\u001b[0mshape\u001b[0m\u001b[1;33m[\u001b[0m\u001b[1;36m0\u001b[0m\u001b[1;33m]\u001b[0m\u001b[1;33m,\u001b[0m\u001b[1;33m)\u001b[0m\u001b[1;33m.\u001b[0m\u001b[0mto\u001b[0m\u001b[1;33m(\u001b[0m\u001b[0mdevice\u001b[0m\u001b[1;33m)\u001b[0m\u001b[1;33m\u001b[0m\u001b[1;33m\u001b[0m\u001b[0m\n\u001b[0;32m     39\u001b[0m         \u001b[0mloss_G\u001b[0m \u001b[1;33m=\u001b[0m \u001b[0mcriterion\u001b[0m\u001b[1;33m(\u001b[0m\u001b[0moutput\u001b[0m\u001b[1;33m,\u001b[0m \u001b[0mlabels\u001b[0m\u001b[1;33m)\u001b[0m\u001b[1;33m\u001b[0m\u001b[1;33m\u001b[0m\u001b[0m\n\u001b[1;32m---> 40\u001b[1;33m         \u001b[0mloss_G\u001b[0m\u001b[1;33m.\u001b[0m\u001b[0mbackward\u001b[0m\u001b[1;33m(\u001b[0m\u001b[1;33m)\u001b[0m\u001b[1;33m\u001b[0m\u001b[1;33m\u001b[0m\u001b[0m\n\u001b[0m\u001b[0;32m     41\u001b[0m         \u001b[0moptimizer_G\u001b[0m\u001b[1;33m.\u001b[0m\u001b[0mstep\u001b[0m\u001b[1;33m(\u001b[0m\u001b[1;33m)\u001b[0m\u001b[1;33m\u001b[0m\u001b[1;33m\u001b[0m\u001b[0m\n\u001b[0;32m     42\u001b[0m     \u001b[1;32mwith\u001b[0m \u001b[0mtorch\u001b[0m\u001b[1;33m.\u001b[0m\u001b[0mno_grad\u001b[0m\u001b[1;33m(\u001b[0m\u001b[1;33m)\u001b[0m\u001b[1;33m:\u001b[0m\u001b[1;33m\u001b[0m\u001b[1;33m\u001b[0m\u001b[0m\n",
      "\u001b[1;32m~\\anaconda3\\lib\\site-packages\\torch\\tensor.py\u001b[0m in \u001b[0;36mbackward\u001b[1;34m(self, gradient, retain_graph, create_graph)\u001b[0m\n\u001b[0;32m    193\u001b[0m                 \u001b[0mproducts\u001b[0m\u001b[1;33m.\u001b[0m \u001b[0mDefaults\u001b[0m \u001b[0mto\u001b[0m\u001b[0;31m \u001b[0m\u001b[0;31m`\u001b[0m\u001b[0;31m`\u001b[0m\u001b[1;32mFalse\u001b[0m\u001b[0;31m`\u001b[0m\u001b[0;31m`\u001b[0m\u001b[1;33m.\u001b[0m\u001b[1;33m\u001b[0m\u001b[1;33m\u001b[0m\u001b[0m\n\u001b[0;32m    194\u001b[0m         \"\"\"\n\u001b[1;32m--> 195\u001b[1;33m         \u001b[0mtorch\u001b[0m\u001b[1;33m.\u001b[0m\u001b[0mautograd\u001b[0m\u001b[1;33m.\u001b[0m\u001b[0mbackward\u001b[0m\u001b[1;33m(\u001b[0m\u001b[0mself\u001b[0m\u001b[1;33m,\u001b[0m \u001b[0mgradient\u001b[0m\u001b[1;33m,\u001b[0m \u001b[0mretain_graph\u001b[0m\u001b[1;33m,\u001b[0m \u001b[0mcreate_graph\u001b[0m\u001b[1;33m)\u001b[0m\u001b[1;33m\u001b[0m\u001b[1;33m\u001b[0m\u001b[0m\n\u001b[0m\u001b[0;32m    196\u001b[0m \u001b[1;33m\u001b[0m\u001b[0m\n\u001b[0;32m    197\u001b[0m     \u001b[1;32mdef\u001b[0m \u001b[0mregister_hook\u001b[0m\u001b[1;33m(\u001b[0m\u001b[0mself\u001b[0m\u001b[1;33m,\u001b[0m \u001b[0mhook\u001b[0m\u001b[1;33m)\u001b[0m\u001b[1;33m:\u001b[0m\u001b[1;33m\u001b[0m\u001b[1;33m\u001b[0m\u001b[0m\n",
      "\u001b[1;32m~\\anaconda3\\lib\\site-packages\\torch\\autograd\\__init__.py\u001b[0m in \u001b[0;36mbackward\u001b[1;34m(tensors, grad_tensors, retain_graph, create_graph, grad_variables)\u001b[0m\n\u001b[0;32m     97\u001b[0m     Variable._execution_engine.run_backward(\n\u001b[0;32m     98\u001b[0m         \u001b[0mtensors\u001b[0m\u001b[1;33m,\u001b[0m \u001b[0mgrad_tensors\u001b[0m\u001b[1;33m,\u001b[0m \u001b[0mretain_graph\u001b[0m\u001b[1;33m,\u001b[0m \u001b[0mcreate_graph\u001b[0m\u001b[1;33m,\u001b[0m\u001b[1;33m\u001b[0m\u001b[1;33m\u001b[0m\u001b[0m\n\u001b[1;32m---> 99\u001b[1;33m         allow_unreachable=True)  # allow_unreachable flag\n\u001b[0m\u001b[0;32m    100\u001b[0m \u001b[1;33m\u001b[0m\u001b[0m\n\u001b[0;32m    101\u001b[0m \u001b[1;33m\u001b[0m\u001b[0m\n",
      "\u001b[1;31mKeyboardInterrupt\u001b[0m: "
     ]
    }
   ],
   "source": [
    "EPOCHS = 1\n",
    "IN_CHANNELS = 1\n",
    "net_G = Generator(IN_CHANNELS).to(device)\n",
    "net_D = Discriminator(IN_CHANNELS).to(device)\n",
    "optimizer_G = torch.optim.Adam(net_G.parameters())\n",
    "optimizer_D = torch.optim.Adam(net_D.parameters())\n",
    "criterion = nn.BCELoss()\n",
    "print(\"Starting Training...\")\n",
    "losses_G_train = []\n",
    "losses_D_train = []\n",
    "losses_G_val = []\n",
    "losses_D_val = []\n",
    "for epoch in range(1, EPOCHS+1):\n",
    "    index = -1\n",
    "    for idx, (imgs, masks) in enumerate(train_loader):\n",
    "        index = idx\n",
    "        net_G.train()\n",
    "        net_D.train()\n",
    "        imgs, masks= imgs.to(device), masks.to(device)\n",
    "        \n",
    "        #Discriminator\n",
    "        net_D.zero_grad()\n",
    "        output = net_D(masks).view(-1)\n",
    "        labels = torch.ones(output.shape[0]).reshape(output.shape[0],).to(device)\n",
    "        lossD_real = criterion(output, labels)\n",
    "        lossD_real.backward()\n",
    "\n",
    "        gen_out = net_G(imgs)\n",
    "        output = net_D(gen_out.detach()).view(-1)\n",
    "        labels = torch.zeros(output.shape[0]).reshape(output.shape[0],).to(device)\n",
    "        \n",
    "        lossD_fake = criterion(output, labels)\n",
    "        lossD_fake.backward()\n",
    "        loss_D = lossD_fake + lossD_real\n",
    "        optimizer_D.step()\n",
    "        \n",
    "        #Generator\n",
    "        net_G.zero_grad()\n",
    "        output = net_D(gen_out).view(-1)\n",
    "        labels = torch.ones(output.shape[0]).reshape(output.shape[0],).to(device)\n",
    "        loss_G = criterion(output, labels)\n",
    "        loss_G.backward()\n",
    "        optimizer_G.step()\n",
    "    with torch.no_grad():\n",
    "        net_D.eval()\n",
    "        net_G.eval()\n",
    "        for (im_val, mask_val) in val_loader:\n",
    "            #Discriminator\n",
    "            output_val = net_D(mask_val).view(-1)\n",
    "            labels_val = torch.ones(output_val.shape[0]).reshape(output_val.shape[0],).to(device)\n",
    "            lossD_real_val = criterion(output_val, labels_val)\n",
    "\n",
    "            gen_out_val = net_G(im_val)\n",
    "            output_val = net_D(gen_out_val.detach()).view(-1)\n",
    "            labels_val = torch.zeros(output_val.shape[0]).reshape(output_val.shape[0],).to(device)\n",
    "\n",
    "            lossD_fake_val = criterion(output_val, labels_val)\n",
    "            loss_D_val = lossD_fake_val + lossD_real_val\n",
    "            #Generator\n",
    "            output_val = net_D(gen_out_val).view(-1)\n",
    "            labels_val = torch.ones(output_val.shape[0]).reshape(output_val.shape[0],).to(device)\n",
    "            loss_G_val = criterion(output_val, labels_val)\n",
    "\n",
    "    if index % 100 == 0:\n",
    "        losses_G_train.append(loss_G.item())\n",
    "        losses_D_train.append(loss_D.item())\n",
    "        losses_G_val.append(loss_G_val.item())\n",
    "        losses_D_val.append(loss_D_val.item())\n",
    "        print(\"[%s/%s] [%s/%s]\\tLoss D Train: %s\\tLoss G Train: %s\\tLoss D Val: %s\\tLoss G Val: %s\" \n",
    "              % (epoch, EPOCHS, idx, len(train_loader), loss_G.item(), loss_D.item(), loss_D_val.item(), loss_G_val.item()))\n",
    "           "
   ]
  },
  {
   "cell_type": "code",
   "execution_count": null,
   "metadata": {},
   "outputs": [],
   "source": [
    "img, mask = 0, 0\n",
    "for im, ms in val_loader:\n",
    "    img = im\n",
    "    mask = ms\n",
    "    break"
   ]
  },
  {
   "cell_type": "code",
   "execution_count": null,
   "metadata": {},
   "outputs": [],
   "source": [
    "plt.imshow(img[0].view(512, 512), cmap = 'gray')"
   ]
  },
  {
   "cell_type": "code",
   "execution_count": null,
   "metadata": {},
   "outputs": [],
   "source": [
    "out_gen = net_G(img[0].view(1,1, 512, 512))\n",
    "plt.imshow(out_gen.detach().numpy().reshape(512, 512), cmap = 'gray')"
   ]
  },
  {
   "cell_type": "code",
   "execution_count": null,
   "metadata": {},
   "outputs": [],
   "source": [
    "plt.imshow(mask[0].view(512, 512), cmap = 'gray')"
   ]
  },
  {
   "cell_type": "code",
   "execution_count": null,
   "metadata": {},
   "outputs": [],
   "source": []
  }
 ],
 "metadata": {
  "kernelspec": {
   "display_name": "Python 3",
   "language": "python",
   "name": "python3"
  },
  "language_info": {
   "codemirror_mode": {
    "name": "ipython",
    "version": 3
   },
   "file_extension": ".py",
   "mimetype": "text/x-python",
   "name": "python",
   "nbconvert_exporter": "python",
   "pygments_lexer": "ipython3",
   "version": "3.7.6"
  }
 },
 "nbformat": 4,
 "nbformat_minor": 4
}
