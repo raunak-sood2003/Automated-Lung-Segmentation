{
 "cells": [
  {
   "cell_type": "code",
   "execution_count": 2,
   "metadata": {},
   "outputs": [],
   "source": [
    "import os\n",
    "import numpy as np"
   ]
  },
  {
   "cell_type": "code",
   "execution_count": 3,
   "metadata": {},
   "outputs": [],
   "source": [
    "lung_dirs = 'D:/DATA/VESSEL_DATA/lung_CT_numpy'\n",
    "mask_dirs = 'D:/DATA/VESSEL_DATA/lung_masks_numpy'"
   ]
  },
  {
   "cell_type": "code",
   "execution_count": 26,
   "metadata": {},
   "outputs": [
    {
     "data": {
      "text/plain": [
       "(424, 512, 512)"
      ]
     },
     "execution_count": 26,
     "metadata": {},
     "output_type": "execute_result"
    }
   ],
   "source": [
    "idx = 4\n",
    "dirs = os.path.join(mask_dirs, os.listdir(mask_dirs)[idx])\n",
    "arr = np.load(dirs)\n",
    "arr.shape"
   ]
  },
  {
   "cell_type": "code",
   "execution_count": 3,
   "metadata": {},
   "outputs": [],
   "source": [
    "def lung_volume(vessel_mask_volume):\n",
    "    pixels = 0\n",
    "    for idx in range(vessel_mask_volume.shape[0]):\n",
    "        mask = vessel_mask_volume[idx, :, :]\n",
    "        lung_pixels = np.sum(mask == 1)\n",
    "        pixels += lung_pixels\n",
    "    return pixels"
   ]
  },
  {
   "cell_type": "code",
   "execution_count": 4,
   "metadata": {},
   "outputs": [],
   "source": [
    "def lower_third_slice(vessel_mask_volume):\n",
    "    vessel_1_vol = lung_volume(vessel_mask_volume)\n",
    "    lower_third_slice = -1\n",
    "    one_third_volume = vessel_1_vol // 3\n",
    "    volume_counter = 0\n",
    "    for idx in range(vessel_mask_volume.shape[0]):\n",
    "        if volume_counter <= one_third_volume:\n",
    "            mask = vessel_mask_volume[idx, :, :]\n",
    "            lung_pixels = np.sum(mask == 1)\n",
    "            volume_counter += lung_pixels\n",
    "            lower_third_slice = idx\n",
    "    return lower_third_slice"
   ]
  },
  {
   "cell_type": "code",
   "execution_count": 5,
   "metadata": {},
   "outputs": [],
   "source": [
    "def upper_third_slice(vessel_mask_volume):\n",
    "    vessel_volume = lung_volume(vessel_mask_volume)\n",
    "    vessel_lower = lower_third_slice(vessel_mask_volume)\n",
    "    upper_slice = -1\n",
    "    one_third_volume = vessel_volume // 3\n",
    "    volume_counter = 0\n",
    "    for idx in range(vessel_lower, vessel_mask_volume.shape[0]):\n",
    "        if volume_counter <= one_third_volume:\n",
    "            mask = vessel_mask_volume[idx, :, :]\n",
    "            lung_pixels = np.sum(mask == 1)\n",
    "            volume_counter += lung_pixels\n",
    "            upper_slice = idx\n",
    "    return upper_slice      "
   ]
  },
  {
   "cell_type": "code",
   "execution_count": 6,
   "metadata": {},
   "outputs": [],
   "source": [
    "def get_slices(mask_dir):\n",
    "    slices_list = []\n",
    "    for mask_vol in os.listdir(mask_dir):\n",
    "        mask_path = os.path.join(mask_dir, mask_vol)\n",
    "        mask_arr = np.load(mask_path)\n",
    "        lower_third = lower_third_slice(mask_arr)\n",
    "        upper_third = upper_third_slice(mask_arr)\n",
    "        slices_list.append([lower_third, upper_third])\n",
    "    return slices_list\n",
    "slices_list = get_slices(mask_dirs)"
   ]
  },
  {
   "cell_type": "code",
   "execution_count": 7,
   "metadata": {},
   "outputs": [
    {
     "data": {
      "text/plain": [
       "[[148, 212],\n",
       " [160, 242],\n",
       " [214, 318],\n",
       " [183, 262],\n",
       " [170, 260],\n",
       " [188, 244],\n",
       " [217, 301],\n",
       " [166, 264],\n",
       " [246, 339],\n",
       " [174, 255],\n",
       " [177, 251],\n",
       " [153, 239],\n",
       " [230, 308],\n",
       " [168, 235],\n",
       " [214, 293],\n",
       " [176, 258],\n",
       " [254, 303],\n",
       " [132, 222],\n",
       " [174, 249],\n",
       " [171, 244]]"
      ]
     },
     "execution_count": 7,
     "metadata": {},
     "output_type": "execute_result"
    }
   ],
   "source": [
    "slices_list"
   ]
  }
 ],
 "metadata": {
  "kernelspec": {
   "display_name": "Python 3",
   "language": "python",
   "name": "python3"
  },
  "language_info": {
   "codemirror_mode": {
    "name": "ipython",
    "version": 3
   },
   "file_extension": ".py",
   "mimetype": "text/x-python",
   "name": "python",
   "nbconvert_exporter": "python",
   "pygments_lexer": "ipython3",
   "version": "3.7.6"
  }
 },
 "nbformat": 4,
 "nbformat_minor": 4
}
